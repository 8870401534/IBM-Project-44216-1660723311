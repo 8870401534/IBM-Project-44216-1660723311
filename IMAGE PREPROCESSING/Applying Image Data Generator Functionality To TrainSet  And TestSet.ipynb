import keras
from keras.preprocessing.image import ImageDataGenerator
Define parameters and arguments for ImageDataGeneratior

train_datagen=ImageDataGenerator(rescale=1./255,
                                 shear_range=0.2,
                                 rotation_range=180,
                                 zoom_range=0.2,
                                 horizontal_flip=True)
test_datagen=ImageDataGenerator(rescale=1./255)
Applying ImageDataGenerator

x_test = test_datagen.flow_from_directory(r'/content/drive/MyDrive/archive (1)/Dataset/Dataset/test_set',
                                          target_size=(128,128),
                                          batch_size=32,
                                          class_mode='binary')
Found 121 images belonging to 2 classes.
x_train = train_datagen.flow_from_directory(r'/content/drive/MyDrive/archive (1)/Dataset/Dataset/train_set',
                                          target_size=(128,128),
                                          batch_size=32,
                                          class_mode='binary')
Found 436 images belonging to 2 classes.