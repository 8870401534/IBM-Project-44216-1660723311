import keras
from keras.preprocessing.image import ImageDataGenerator
train_datagen=ImageDataGenerator(rescale=1./255,shear_range=0.2,rotation_range=180,zoom_range=0.2,horizontal_flip=True)

test_datagen=ImageDataGenerator(rescale=1./255)
x_train=train_datagen.flow_from_directory('/content/drive/MyDrive/DATASET/Dataset/Dataset/train_set',target_size=(128,128),batch_size=32,class_mode='binary')
Found 436 images belonging to 2 classes.
x_test=test_datagen.flow_from_directory('/content/drive/MyDrive/DATASET/Dataset/Dataset/test_set',target_size=(128,128),batch_size=32,class_mode='binary')
Found 121 images belonging to 2 classes.
from keras.models import Sequential
from keras.layers import Dense
from keras.layers import Convolution2D
from keras.layers import MaxPooling2D
from keras.layers import Flatten
import warnings
warnings.filterwarnings('ignore')
model=Sequential()
model.add(Convolution2D(32,(3,3),input_shape=(128,128,3),activation='relu'))
model.add(MaxPooling2D(pool_size=(2,2))) 
model.add(Flatten())