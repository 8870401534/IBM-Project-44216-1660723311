








import keras
from keras.preprocessing.image import ImageDataGenerator
train_datagen=ImageDataGenerator(rescale=1./255,shear_range=0.2,rotation_range=180,zoom_range=0.2,horizontal_flip=True)

test_datagen=ImageDataGenerator(rescale=1./255)
x_train=train_datagen.flow_from_directory('/content/drive/MyDrive/DATASET/Dataset/Dataset/train_set',target_size=(128,128),batch_size=32,class_mode='binary')
Found 436 images belonging to 2 classes.
x_test=test_datagen.flow_from_directory('/content/drive/MyDrive/DATASET/Dataset/Dataset/test_set',target_size=(128,128),batch_size=32,class_mode='binary')
Found 121 images belonging to 2 classes.
from keras.models import Sequential
from keras.layers import Dense
from keras.layers import Convolution2D
from keras.layers import MaxPooling2D
from keras.layers import Flatten
import warnings
warnings.filterwarnings('ignore')
model=Sequential()
model.add(Convolution2D(32,(3,3),input_shape=(128,128,3),activation='relu'))
model.add(MaxPooling2D(pool_size=(2,2))) 
model.add(Flatten())

model.add(Dense(150,activation='relu'))
model.add(Dense(1,activation='sigmoid'))
model.compile(loss='binary_crossentropy',optimizer="adam",metrics=["accuracy"])
model.fit_generator(x_train,steps_per_epoch=14,epochs=10,validation_data=x_test,validation_steps
Epoch 1/10
14/14 [==============================] - 133s 9s/step - loss: 3.3340 - accuracy: 0.6858 - val_loss: 0.2506 - val_accuracy: 0.9587
Epoch 2/10
14/14 [==============================] - 25s 2s/step - loss: 0.4925 - accuracy: 0.8417 - val_loss: 0.2306 - val_accuracy: 0.9091
Epoch 3/10
14/14 [==============================] - 25s 2s/step - loss: 0.2565 - accuracy: 0.9083 - val_loss: 0.0720 - val_accuracy: 0.9835
Epoch 4/10
14/14 [==============================] - 25s 2s/step - loss: 0.2112 - accuracy: 0.9060 - val_loss: 0.0464 - val_accuracy: 0.9917
Epoch 5/10
14/14 [==============================] - 27s 2s/step - loss: 0.1786 - accuracy: 0.9220 - val_loss: 0.0405 - val_accuracy: 0.9917
Epoch 6/10
14/14 [==============================] - 25s 2s/step - loss: 0.1942 - accuracy: 0.9220 - val_loss: 0.0524 - val_accuracy: 0.9752
Epoch 7/10
14/14 [==============================] - 25s 2s/step - loss: 0.1572 - accuracy: 0.9243 - val_loss: 0.0458 - val_accuracy: 0.9752
Epoch 8/10
14/14 [==============================] - 26s 2s/step - loss: 0.1639 - accuracy: 0.9312 - val_loss: 0.0402 - val_accuracy: 0.9917
Epoch 9/10
14/14 [==============================] - 25s 2s/step - loss: 0.2095 - accuracy: 0.9174 - val_loss: 0.0922 - val_accuracy: 0.9587
Epoch 10/10
14/14 [==============================] - 26s 2s/step - loss: 0.2097 - accuracy: 0.9083 - val_loss: 0.0399 - val_accuracy: 1.0000

