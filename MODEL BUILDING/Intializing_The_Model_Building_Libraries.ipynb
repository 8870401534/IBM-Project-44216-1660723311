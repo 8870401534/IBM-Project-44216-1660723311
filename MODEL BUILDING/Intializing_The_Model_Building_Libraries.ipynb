In[1]:      import keras
            from keras.preprocessing.image import ImageDataGenerator

In[2]:      train_datagen=ImageDataGenerator(rescale=1./255,shear_range=0.2,rotation_range=180,zoom_range=0.2,horizontal_flip=True)
            test_datagen=ImageDataGenerator(rescale=1./255)

In[3]:      x_train=train_datagen.flow_from_directory('/content/drive/MyDrive/DATASET/Dataset/Dataset/train_set',target_size=(128,128),batch_size=32,class_mode='binary')
            Found 436 images belonging to 2 classes.

In[4]:      x_test=test_datagen.flow_from_directory('/content/drive/MyDrive/DATASET/Dataset/Dataset/test_set',target_size=(128,128),batch_size=32,class_mode='binary')
            Found 121 images belonging to 2 classes.

In[5]:      from keras.models import Sequential
            from keras.layers import Dense
            from keras.layers import Convolution2D
            from keras.layers import MaxPooling2D
            from keras.layers import Flatten
            import warnings
In[6]:      warnings.filterwarnings('ignore')
In[7]:      model=Sequential()           